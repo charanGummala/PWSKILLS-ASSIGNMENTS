{
 "cells": [
  {
   "cell_type": "markdown",
   "id": "ca2da0ed",
   "metadata": {},
   "source": [
    "# `Q1. Explain the difference between simple linear regression and multiple linear regression. Provide an example of each.`"
   ]
  },
  {
   "cell_type": "markdown",
   "id": "e8bc0e12",
   "metadata": {},
   "source": [
    "* Simple linear regression and Multiple linear regression are both supervised machine learning algorithms.The basic difference between Simple and multiple linear regression is , in simple linear regression we can have only `ONE` `INDEPENDENT` and `ONE` `DEPENDENT` feature, where as in multiple linear regression we can have `TWO OR MORE INDEPENDENT` features and `ONE DEPENDENT` feature.\n",
    "\n",
    "\n",
    "`SIMPLE LINEAR REGRESSION`   :  CGPA | SALARY |\n",
    "\n",
    "`MULTIPLE LINEAR REGRESSION` :  CGPA | IQ | GENDER | SALARY"
   ]
  },
  {
   "cell_type": "markdown",
   "id": "50f1f37a",
   "metadata": {},
   "source": [
    "# `Q2. Discuss the assumptions of linear regression. How can you check whether these assumptions hold in a given dataset?`"
   ]
  },
  {
   "cell_type": "markdown",
   "id": "8f619cb2",
   "metadata": {},
   "source": [
    "`LINERITY` : The relationship between the `INDEPENDENT` and `DEPENDENT` variable should be linear.\n",
    "In order to check this we can plot a scatter plot between independent features and dependent feature.\n",
    "\n",
    "`NO MULTI COLLINEARITY` : If we have two or more independent features , there should not be any collinearity between them.We can check this using .corr() method or we can plot heatmap.\n",
    "\n",
    "`NORMALITY` : Normality: The residuals are assumed to follow a normal distribution. This means that the errors are normally distributed with a mean of zero.We can check this by plotting distribution plot using any visualization libraries."
   ]
  },
  {
   "cell_type": "markdown",
   "id": "97aa6192",
   "metadata": {},
   "source": [
    "# ` Q3. How do you interpret the slope and intercept in a linear regression model? Provide an example usinga real-world scenario.`"
   ]
  },
  {
   "cell_type": "markdown",
   "id": "c56144d6",
   "metadata": {},
   "source": [
    "In a linear regression model of the form y = m*x + c , y is dependent variable , x ix independent variable , m and c are slope and y-intercept respectively.In regression model we find the values of m and c using gradient descent i.e convergence allgorithm.\n",
    "\n",
    "`INTERCEPT` : It indicates the value of dependent variable when independent variable is zero.\n",
    "\n",
    "`SLOPE` : It indicates the change in dependent variable for unit change in independent variable."
   ]
  },
  {
   "cell_type": "markdown",
   "id": "8fb5eb07",
   "metadata": {},
   "source": [
    "# `Q4. Explain the concept of gradient descent. How is it used in machine learning?`"
   ]
  },
  {
   "cell_type": "markdown",
   "id": "56100f99",
   "metadata": {},
   "source": [
    "Gradient descent is an optiming algorithm used to find minimum or maximum of a given function.It is widely used in machine learning algorithms to optimize the values of slopes and intercept.\n",
    "\n",
    "\n",
    "The algorithm proceeds as follows:\n",
    "\n",
    "a. Initialize the model's parameters with random values.\n",
    "b. Calculate the gradient of the cost function with respect to the current parameter values.\n",
    "c. Update the parameters by subtracting the learning rate multiplied by the gradient. This moves the parameters in the direction that reduces the cost function.\n",
    "d. Repeat steps b and c until the cost function converges to a minimum (or until a predefined number of iterations is reached)."
   ]
  },
  {
   "cell_type": "markdown",
   "id": "6b2c305b",
   "metadata": {},
   "source": [
    "# `Q5. Describe the multiple linear regression model. How does it differ from simple linear regression?`"
   ]
  },
  {
   "cell_type": "markdown",
   "id": "3c283587",
   "metadata": {},
   "source": [
    "The major difference between Simple linear regression and multiple linear regression is , in multiple linear regression we have `TWO OR MORE` `independent` features and in simple linear regression we have `ONLY ONE INDEPENDENT`  feature.\n",
    "\n",
    "`SIMPLE LINEAR REGRESSION ` :  y = mx + c\n",
    "\n",
    "`MULTIPLE LINEAR REGRESSION` : y= c + m1 * x1 + m2 * x2 + m3 *x3 + .......mn * xn\n",
    "\n",
    "In the above equations y is dependent feature , x is independent feature , c is intercept and m is slope."
   ]
  },
  {
   "cell_type": "markdown",
   "id": "7d859c24",
   "metadata": {},
   "source": [
    "# `Q6. Explain the concept of multicollinearity in multiple linear regression. How can you detect andaddress this issue?`"
   ]
  },
  {
   "cell_type": "markdown",
   "id": "0a583fb5",
   "metadata": {},
   "source": [
    "`MULTI COLLINEARITY`  : Multicollinearity is a situation in multiple linear regression where two or more independent features are highly correlated with each other.\n",
    "\n",
    "`DETECTION` : Multcollinearity can be detected by using .corr() method or by plotting heatmap.\n",
    "\n",
    "`ADDRESSING` : Consider removing one or more independent variables that are highly correlated with others. Keeping only the most relevant variables can help mitigate multicollinearity."
   ]
  },
  {
   "cell_type": "markdown",
   "id": "9943df97",
   "metadata": {},
   "source": [
    "# `Q7. Describe the polynomial regression model. How is it different from linear regression?`"
   ]
  },
  {
   "cell_type": "markdown",
   "id": "fc60f4bc",
   "metadata": {},
   "source": [
    "`POLYNOMIAL LINEAR REGRESSION `  : We use polynomial linear regression when we do not have linear relationship between independent and dependent variables.\n",
    "\n",
    "<strong>EQUATIONS OF POLYNOMIAL LINEAR REGRESSION<strong>\n",
    "    \n",
    "    The polynomial regression model can be represented by the following equation:\n",
    "\n",
    "Y = b0 + b1X + b2X^2 + b3X^3 + ... + bnX^n + ε\n",
    "\n",
    "Where:\n",
    "\n",
    "Y is the dependent variable.\n",
    "X is the independent variable.\n",
    "b0, b1, b2, ..., bn are the regression coefficients that represent the intercept and the coefficients of the polynomial terms.\n",
    "n is the degree of the polynomial, indicating how many terms are included in the model.\n",
    "ε is the error term, representing the unexplained variation in Y not captured by the model."
   ]
  },
  {
   "cell_type": "markdown",
   "id": "1a8a694f",
   "metadata": {},
   "source": [
    "# `Q8. What are the advantages and disadvantages of polynomial regression compared to linearregression? In what situations would you prefer to use polynomial regression?`"
   ]
  },
  {
   "cell_type": "markdown",
   "id": "5de45a33",
   "metadata": {},
   "source": [
    "<strong>ADVANTAGES :</strong>\n",
    "\n",
    "`FLEXIBILITY`: Polynomial regression can capture nonlinear relationships between the variables, allowing for a more flexible modeling of the data. This flexibility can lead to a better fit to complex and curved data patterns.\n",
    "\n",
    "`Simplicity of Implementation`: Implementing polynomial regression is relatively straightforward, especially with the availability of software libraries and tools that can handle polynomial terms.\n",
    "\n",
    "<strong>DISADVANTAGES</strong>\n",
    "\n",
    "`Overfitting`: Using a high-degree polynomial can result in overfitting, where the model fits the noise in the data instead of the underlying pattern. This can lead to poor performance on new, unseen data.\n",
    "\n",
    "`Increased Complexity`: As the degree of the polynomial increases, the model becomes more complex, and interpretation of coefficients becomes more challenging."
   ]
  },
  {
   "cell_type": "code",
   "execution_count": null,
   "id": "ba2b5a74",
   "metadata": {},
   "outputs": [],
   "source": []
  }
 ],
 "metadata": {
  "kernelspec": {
   "display_name": "Python 3 (ipykernel)",
   "language": "python",
   "name": "python3"
  },
  "language_info": {
   "codemirror_mode": {
    "name": "ipython",
    "version": 3
   },
   "file_extension": ".py",
   "mimetype": "text/x-python",
   "name": "python",
   "nbconvert_exporter": "python",
   "pygments_lexer": "ipython3",
   "version": "3.9.13"
  }
 },
 "nbformat": 4,
 "nbformat_minor": 5
}
